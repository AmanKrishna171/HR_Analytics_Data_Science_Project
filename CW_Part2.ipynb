{
 "cells": [
  {
   "cell_type": "code",
   "execution_count": 21,
   "metadata": {},
   "outputs": [
    {
     "name": "stdout",
     "output_type": "stream",
     "text": [
      "1470 rows and 35 columns\n"
     ]
    },
    {
     "data": {
      "text/plain": [
       "Index([], dtype='object')"
      ]
     },
     "execution_count": 21,
     "metadata": {},
     "output_type": "execute_result"
    }
   ],
   "source": [
    "import pandas as pd\n",
    "import numpy as np\n",
    "import seaborn as sns\n",
    "import matplotlib as mp\n",
    "import matplotlib.pyplot as plt\n",
    "from sklearn.cluster import KMeans\n",
    "\n",
    "df = pd.read_csv(r\"C:\\Users\\amank\\DMML CW\\IBM.csv\")\n",
    "df.dataframeName = 'IBM.csv'\n",
    "nRow, nCol = df.shape\n",
    "print(f'{nRow} rows and {nCol} columns')\n",
    "\n",
    "df.drop('EmployeeCount',axis =1,inplace=True)\n",
    "df.drop('StandardHours',axis =1,inplace=True)\n",
    "df.drop('Over18',axis =1,inplace=True)\n",
    "df.drop('PerformanceRating',axis =1,inplace=True)\n",
    "df.drop('EmployeeNumber',axis =1,inplace=True)\n",
    "df.drop('JobRole',axis =1,inplace=True)\n",
    "df.drop('MaritalStatus',axis =1,inplace=True)\n",
    "\n",
    "df.replace({'Yes':1,'No':0,'Male':1,'Female':2,'Travel_Rarely' : 1, 'Travel_Frequently' : 2, 'Non-Travel' : 3,\n",
    "'Sales' : 1, 'Research & Development' : 2, 'Human Resources' : 3,'Life Sciences':1,'Medical':2,'Other':3,'Marketing':4,'Technical Degree':5}, inplace=True)\n",
    "X = df.drop(['Attrition'],axis=1)\n",
    "categorical_data = df.select_dtypes('object')\n",
    "categorical_data.keys()"
   ]
  },
  {
   "cell_type": "markdown",
   "metadata": {},
   "source": [
    "K clustering "
   ]
  },
  {
   "cell_type": "code",
   "execution_count": 24,
   "metadata": {},
   "outputs": [
    {
     "data": {
      "image/png": "[encoded data removed]",
      "text/plain": [
       "<Figure size 432x288 with 1 Axes>"
      ]
     },
     "metadata": {
      "needs_background": "light"
     },
     "output_type": "display_data"
    }
   ],
   "source": [
    "wcss = []\n",
    "for i in range(1, 11):\n",
    "    kmeans = KMeans(n_clusters=i, init='k-means++', max_iter=300, n_init=10, random_state=0)\n",
    "    kmeans.fit(df)\n",
    "    wcss.append(kmeans.inertia_)\n",
    "plt.plot(range(1, 11), wcss)\n",
    "plt.title('Elbow Method')\n",
    "plt.xlabel('Number of clusters')\n",
    "plt.ylabel('WCSS')\n",
    "plt.show()\n",
    "\n"
   ]
  },
  {
   "cell_type": "code",
   "execution_count": 29,
   "metadata": {},
   "outputs": [
    {
     "data": {
      "text/plain": [
       "array([1, 1, 0, ..., 0, 0, 0])"
      ]
     },
     "execution_count": 29,
     "metadata": {},
     "output_type": "execute_result"
    }
   ],
   "source": [
    "model = KMeans(n_clusters=2)\n",
    "model.fit(X)\n",
    "\n",
    "model.labels_\n"
   ]
  },
  {
   "cell_type": "code",
   "execution_count": 31,
   "metadata": {},
   "outputs": [],
   "source": [
    "sse = model.inertia_\n",
    "sse = []\n",
    "for K in range(1, 10):\n",
    "    model = KMeans(n_clusters=K)\n",
    "    model.fit(X)\n",
    "    sse.append(model.inertia_)"
   ]
  },
  {
   "cell_type": "markdown",
   "metadata": {},
   "source": [
    "https://towardsdatascience.com/k-means-clustering-in-python-4061510145cc"
   ]
  }
 ],
 "metadata": {
  "interpreter": {
   "hash": "b902f5afe14a763cb553b0775590c92997fcff5ac5385859ac5c2599053af061"
  },
  "kernelspec": {
   "display_name": "Python 3.9.7 64-bit (windows store)",
   "name": "python3"
  },
  "language_info": {
   "codemirror_mode": {
    "name": "ipython",
    "version": 3
   },
   "file_extension": ".py",
   "mimetype": "text/x-python",
   "name": "python",
   "nbconvert_exporter": "python",
   "pygments_lexer": "ipython3",
   "version": "3.9.7"
  },
  "orig_nbformat": 4
 },
 "nbformat": 4,
 "nbformat_minor": 2
}
